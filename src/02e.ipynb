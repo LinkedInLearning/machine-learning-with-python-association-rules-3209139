{
 "cells": [
  {
   "cell_type": "markdown",
   "id": "11963cc7",
   "metadata": {},
   "source": [
    "# Market Basket Analysis with Association Rules in Python\n",
    "\n",
    "## Learning Objectives\n",
    "Market basket analysis or affinity analysis is the process of identifying patterns and extracting meaningful insight from transaction sets. Association rules are often used for market basket analysis because they allow us to discover, quantify and analyze the co-occurrence of items within a set of transactions. By the end of this tutorial, you will have learned:\n",
    "\n",
    "+ How to import and explore a transaction set\n",
    "+ How to create Frequent Itemsets\n",
    "+ How to create Association Rules\n",
    "+ How to evaluate Association Rules"
   ]
  },
  {
   "cell_type": "markdown",
   "id": "2887bb87",
   "metadata": {},
   "source": [
    "## 1. Collect the Data"
   ]
  },
  {
   "cell_type": "markdown",
   "id": "7c96c17b",
   "metadata": {},
   "source": [
    "The data that we're going to analyze is market basket data collected from a local grocery store over a 30-day period. The data is stored in CSV (Comma  Separated Values) format as follows:\n",
    "```\n",
    "1. citrus fruit,semi-finished bread,margarine,ready soups\n",
    "2. tropical fruit,yogurt,coffee\n",
    "3. whole milk\n",
    "4. pip fruit,yogurt,cream cheese,meat spreads\n",
    "5. other vegetables,whole milk,condensed milk,long life bakery product\n",
    "```\n",
    "Each row in the data represents a set of items purchased by a customer during a store visit, which we refer to as a transaction. As expected, the number of items in each transaction varies so we cannot simply bulk import this data into a tabular data structure such as a pandas DataFrame as-is. Instead, we need to import the data one row at a time.\n",
    "\n",
    "To do this, we first need to import the `reader` object from the `csv` package."
   ]
  },
  {
   "cell_type": "code",
   "execution_count": 2,
   "id": "b1c664ab",
   "metadata": {},
   "outputs": [],
   "source": [
    "from csv import reader"
   ]
  },
  {
   "cell_type": "markdown",
   "id": "eff3ec92",
   "metadata": {},
   "source": [
    "Next, we iterate over each line in the input file (*groceries.csv*) and append it to a list called `groceries`."
   ]
  },
  {
   "cell_type": "code",
   "execution_count": 3,
   "id": "b53e3b3f",
   "metadata": {
    "scrolled": true
   },
   "outputs": [],
   "source": [
    "groceries = []\n",
    "with open('groceries.csv', 'r') as csvfile:\n",
    "    csv_reader = reader(csvfile)\n",
    "    for row in csv_reader:\n",
    "        groceries.append(row)"
   ]
  },
  {
   "cell_type": "markdown",
   "id": "836693c2",
   "metadata": {},
   "source": [
    "Let’s preview the first 5 elements in the `groceries` list to make sure that the import worked as expected."
   ]
  },
  {
   "cell_type": "code",
   "execution_count": 11,
   "id": "d05752d1",
   "metadata": {
    "scrolled": true
   },
   "outputs": [
    {
     "data": {
      "text/plain": [
       "[['citrus fruit', 'semi-finished bread', 'margarine', 'ready soups'],\n",
       " ['tropical fruit', 'yogurt', 'coffee'],\n",
       " ['whole milk'],\n",
       " ['pip fruit', 'yogurt', 'cream cheese', 'meat spreads'],\n",
       " ['other vegetables',\n",
       "  'whole milk',\n",
       "  'condensed milk',\n",
       "  'long life bakery product']]"
      ]
     },
     "execution_count": 11,
     "metadata": {},
     "output_type": "execute_result"
    }
   ],
   "source": [
    "groceries[0:5]"
   ]
  },
  {
   "cell_type": "markdown",
   "id": "bfd79d76",
   "metadata": {},
   "source": [
    "Now that we've imported the transactions into a list, we need to encode them and represent the data in a sparse format before we can generate frequent itemsets."
   ]
  },
  {
   "cell_type": "markdown",
   "id": "32993d81",
   "metadata": {},
   "source": [
    "To transform our data, we first need to import the `TransactionEncoder` class from the `mlxtend.preprocessing` subpackage. The `mlxtend` package provides several functions and objects for preprocesing transaction data, generating frequent itemsets and creating association rules. "
   ]
  },
  {
   "cell_type": "code",
   "execution_count": 12,
   "id": "e53e450e",
   "metadata": {},
   "outputs": [],
   "source": [
    "from mlxtend.preprocessing import TransactionEncoder"
   ]
  },
  {
   "cell_type": "markdown",
   "id": "791af210",
   "metadata": {},
   "source": [
    "Then we instantiate an object called `encoder` from the `TransactionEncoder` class."
   ]
  },
  {
   "cell_type": "code",
   "execution_count": 13,
   "id": "99669672",
   "metadata": {},
   "outputs": [],
   "source": [
    "encoder = TransactionEncoder()"
   ]
  },
  {
   "cell_type": "markdown",
   "id": "1f56bc2b",
   "metadata": {},
   "source": [
    "Using the `encoder` object, we call the `fit()` method to extract the unique labels in the transaction set and the `transform()` method to one-hot encode the transactions into a boolean NumPy array."
   ]
  },
  {
   "cell_type": "code",
   "execution_count": 14,
   "id": "9019f8e9",
   "metadata": {},
   "outputs": [
    {
     "data": {
      "text/plain": [
       "array([[False, False, False, ..., False, False, False],\n",
       "       [False, False, False, ..., False,  True, False],\n",
       "       [False, False, False, ...,  True, False, False],\n",
       "       ...,\n",
       "       [False, False, False, ..., False,  True, False],\n",
       "       [False, False, False, ..., False, False, False],\n",
       "       [False, False, False, ..., False, False, False]])"
      ]
     },
     "execution_count": 14,
     "metadata": {},
     "output_type": "execute_result"
    }
   ],
   "source": [
    "transactions = encoder.fit(groceries).transform(groceries)\n",
    "transactions"
   ]
  },
  {
   "cell_type": "markdown",
   "id": "37ede88f",
   "metadata": {},
   "source": [
    "Next, we convert the transactions into a pandas DataFrame. This requires that we first import the `pandas` package."
   ]
  },
  {
   "cell_type": "code",
   "execution_count": 15,
   "id": "c5262ae7",
   "metadata": {},
   "outputs": [],
   "source": [
    "import pandas as pd"
   ]
  },
  {
   "cell_type": "markdown",
   "id": "e2020e01",
   "metadata": {},
   "source": [
    "Then we pass the boolean array and item names to the pandas `DataFrame()` constructor function to create a new DataFrame called `itemsets`."
   ]
  },
  {
   "cell_type": "code",
   "execution_count": 16,
   "id": "42ccf29b",
   "metadata": {},
   "outputs": [],
   "source": [
    "itemsets = pd.DataFrame(transactions, columns = encoder.columns_)"
   ]
  },
  {
   "cell_type": "markdown",
   "id": "81d25f52",
   "metadata": {},
   "source": [
    "We can preview the first 5 rows in the `itemsets` DataFrame by calling the `head()` method."
   ]
  },
  {
   "cell_type": "code",
   "execution_count": 17,
   "id": "e83bab97",
   "metadata": {
    "scrolled": false
   },
   "outputs": [
    {
     "data": {
      "text/html": [
       "<div>\n",
       "<style scoped>\n",
       "    .dataframe tbody tr th:only-of-type {\n",
       "        vertical-align: middle;\n",
       "    }\n",
       "\n",
       "    .dataframe tbody tr th {\n",
       "        vertical-align: top;\n",
       "    }\n",
       "\n",
       "    .dataframe thead th {\n",
       "        text-align: right;\n",
       "    }\n",
       "</style>\n",
       "<table border=\"1\" class=\"dataframe\">\n",
       "  <thead>\n",
       "    <tr style=\"text-align: right;\">\n",
       "      <th></th>\n",
       "      <th>abrasive cleaner</th>\n",
       "      <th>artif. sweetener</th>\n",
       "      <th>baby cosmetics</th>\n",
       "      <th>baby food</th>\n",
       "      <th>bags</th>\n",
       "      <th>baking powder</th>\n",
       "      <th>bathroom cleaner</th>\n",
       "      <th>beef</th>\n",
       "      <th>berries</th>\n",
       "      <th>beverages</th>\n",
       "      <th>...</th>\n",
       "      <th>uht-milk</th>\n",
       "      <th>vinegar</th>\n",
       "      <th>waffles</th>\n",
       "      <th>whipped/sour cream</th>\n",
       "      <th>whisky</th>\n",
       "      <th>white bread</th>\n",
       "      <th>white wine</th>\n",
       "      <th>whole milk</th>\n",
       "      <th>yogurt</th>\n",
       "      <th>zwieback</th>\n",
       "    </tr>\n",
       "  </thead>\n",
       "  <tbody>\n",
       "    <tr>\n",
       "      <th>0</th>\n",
       "      <td>False</td>\n",
       "      <td>False</td>\n",
       "      <td>False</td>\n",
       "      <td>False</td>\n",
       "      <td>False</td>\n",
       "      <td>False</td>\n",
       "      <td>False</td>\n",
       "      <td>False</td>\n",
       "      <td>False</td>\n",
       "      <td>False</td>\n",
       "      <td>...</td>\n",
       "      <td>False</td>\n",
       "      <td>False</td>\n",
       "      <td>False</td>\n",
       "      <td>False</td>\n",
       "      <td>False</td>\n",
       "      <td>False</td>\n",
       "      <td>False</td>\n",
       "      <td>False</td>\n",
       "      <td>False</td>\n",
       "      <td>False</td>\n",
       "    </tr>\n",
       "    <tr>\n",
       "      <th>1</th>\n",
       "      <td>False</td>\n",
       "      <td>False</td>\n",
       "      <td>False</td>\n",
       "      <td>False</td>\n",
       "      <td>False</td>\n",
       "      <td>False</td>\n",
       "      <td>False</td>\n",
       "      <td>False</td>\n",
       "      <td>False</td>\n",
       "      <td>False</td>\n",
       "      <td>...</td>\n",
       "      <td>False</td>\n",
       "      <td>False</td>\n",
       "      <td>False</td>\n",
       "      <td>False</td>\n",
       "      <td>False</td>\n",
       "      <td>False</td>\n",
       "      <td>False</td>\n",
       "      <td>False</td>\n",
       "      <td>True</td>\n",
       "      <td>False</td>\n",
       "    </tr>\n",
       "    <tr>\n",
       "      <th>2</th>\n",
       "      <td>False</td>\n",
       "      <td>False</td>\n",
       "      <td>False</td>\n",
       "      <td>False</td>\n",
       "      <td>False</td>\n",
       "      <td>False</td>\n",
       "      <td>False</td>\n",
       "      <td>False</td>\n",
       "      <td>False</td>\n",
       "      <td>False</td>\n",
       "      <td>...</td>\n",
       "      <td>False</td>\n",
       "      <td>False</td>\n",
       "      <td>False</td>\n",
       "      <td>False</td>\n",
       "      <td>False</td>\n",
       "      <td>False</td>\n",
       "      <td>False</td>\n",
       "      <td>True</td>\n",
       "      <td>False</td>\n",
       "      <td>False</td>\n",
       "    </tr>\n",
       "    <tr>\n",
       "      <th>3</th>\n",
       "      <td>False</td>\n",
       "      <td>False</td>\n",
       "      <td>False</td>\n",
       "      <td>False</td>\n",
       "      <td>False</td>\n",
       "      <td>False</td>\n",
       "      <td>False</td>\n",
       "      <td>False</td>\n",
       "      <td>False</td>\n",
       "      <td>False</td>\n",
       "      <td>...</td>\n",
       "      <td>False</td>\n",
       "      <td>False</td>\n",
       "      <td>False</td>\n",
       "      <td>False</td>\n",
       "      <td>False</td>\n",
       "      <td>False</td>\n",
       "      <td>False</td>\n",
       "      <td>False</td>\n",
       "      <td>True</td>\n",
       "      <td>False</td>\n",
       "    </tr>\n",
       "    <tr>\n",
       "      <th>4</th>\n",
       "      <td>False</td>\n",
       "      <td>False</td>\n",
       "      <td>False</td>\n",
       "      <td>False</td>\n",
       "      <td>False</td>\n",
       "      <td>False</td>\n",
       "      <td>False</td>\n",
       "      <td>False</td>\n",
       "      <td>False</td>\n",
       "      <td>False</td>\n",
       "      <td>...</td>\n",
       "      <td>False</td>\n",
       "      <td>False</td>\n",
       "      <td>False</td>\n",
       "      <td>False</td>\n",
       "      <td>False</td>\n",
       "      <td>False</td>\n",
       "      <td>False</td>\n",
       "      <td>True</td>\n",
       "      <td>False</td>\n",
       "      <td>False</td>\n",
       "    </tr>\n",
       "  </tbody>\n",
       "</table>\n",
       "<p>5 rows × 169 columns</p>\n",
       "</div>"
      ],
      "text/plain": [
       "   abrasive cleaner  artif. sweetener  baby cosmetics  baby food   bags  \\\n",
       "0             False             False           False      False  False   \n",
       "1             False             False           False      False  False   \n",
       "2             False             False           False      False  False   \n",
       "3             False             False           False      False  False   \n",
       "4             False             False           False      False  False   \n",
       "\n",
       "   baking powder  bathroom cleaner   beef  berries  beverages  ...  uht-milk  \\\n",
       "0          False             False  False    False      False  ...     False   \n",
       "1          False             False  False    False      False  ...     False   \n",
       "2          False             False  False    False      False  ...     False   \n",
       "3          False             False  False    False      False  ...     False   \n",
       "4          False             False  False    False      False  ...     False   \n",
       "\n",
       "   vinegar  waffles  whipped/sour cream  whisky  white bread  white wine  \\\n",
       "0    False    False               False   False        False       False   \n",
       "1    False    False               False   False        False       False   \n",
       "2    False    False               False   False        False       False   \n",
       "3    False    False               False   False        False       False   \n",
       "4    False    False               False   False        False       False   \n",
       "\n",
       "   whole milk  yogurt  zwieback  \n",
       "0       False   False     False  \n",
       "1       False    True     False  \n",
       "2        True   False     False  \n",
       "3       False    True     False  \n",
       "4        True   False     False  \n",
       "\n",
       "[5 rows x 169 columns]"
      ]
     },
     "execution_count": 17,
     "metadata": {},
     "output_type": "execute_result"
    }
   ],
   "source": [
    "itemsets.head()"
   ]
  },
  {
   "cell_type": "markdown",
   "id": "c8a6a2f0",
   "metadata": {},
   "source": [
    "We can also get a concise summary of the structure of the `itemsets` DataFrame by calling the `info()` method."
   ]
  },
  {
   "cell_type": "code",
   "execution_count": 18,
   "id": "92c5e631",
   "metadata": {
    "scrolled": true
   },
   "outputs": [
    {
     "name": "stdout",
     "output_type": "stream",
     "text": [
      "<class 'pandas.core.frame.DataFrame'>\n",
      "RangeIndex: 9835 entries, 0 to 9834\n",
      "Columns: 169 entries, abrasive cleaner to zwieback\n",
      "dtypes: bool(169)\n",
      "memory usage: 1.6 MB\n"
     ]
    }
   ],
   "source": [
    "itemsets.info()"
   ]
  },
  {
   "cell_type": "markdown",
   "id": "1d2bdb9d",
   "metadata": {},
   "source": [
    "By looking at the `RangeIndex` value of the summary, we can tell that there are 9,835 transactions in the dataset. The `Columns` value tells us that that there are 169 features (or unique items) in the dataset. "
   ]
  },
  {
   "cell_type": "markdown",
   "id": "a14e2ae3",
   "metadata": {},
   "source": [
    "## 2. Generate Frequent Itemsets"
   ]
  },
  {
   "cell_type": "markdown",
   "id": "5426f581",
   "metadata": {},
   "source": [
    "Now that we have our transactions in a compatible format (one-hot encoded pandas DataFrame), let's limit our focus to the frequent itemsets. The `mlxtend.frequent_patterns` subpackage provides three functions for generating frequent itemsets - `apriori`, `fpgrowth` and `fpmax`. All three functions have similar syntax, so we'll limit our illustration to the the `apriori` function. Let's import it."
   ]
  },
  {
   "cell_type": "code",
   "execution_count": 19,
   "id": "947456f2",
   "metadata": {},
   "outputs": [],
   "source": [
    "from mlxtend.frequent_patterns import apriori"
   ]
  },
  {
   "cell_type": "markdown",
   "id": "72d2d03a",
   "metadata": {},
   "source": [
    "The `apriori` function takes several arguments. The first one is the pandas DataFrame of the transactions we wish to analyze. The second is the minimum support threshold of the itemsets we consider frequent. This value specifies how often an itemset must occur in the transaction set in order to warrant our attention. \n",
    "\n",
    "Let’s assume that we only want to focus our attention on itemsets that occur at least $5$ times a day. Given that our data is for $30$ days and our dataset has $9,835$ transactions, this means that we need to set our minimum support threshold to $ 5 \\times \\frac{30}{9835} \\approx 0.015$."
   ]
  },
  {
   "cell_type": "code",
   "execution_count": 21,
   "id": "3db7d690",
   "metadata": {},
   "outputs": [],
   "source": [
    "frequent_item_sets = apriori(itemsets,min_support = 0.015,use_colnames = True)\n"
   ]
  },
  {
   "cell_type": "markdown",
   "id": "4cf0c5fb",
   "metadata": {},
   "source": [
    "By default, the `apriori` function returns the numeric column indices of the items in the transaction set. For ease of interpretation, we set the `use_colnames` argument within the function to `True`. This tells the function to return item names instead of integer values. Let's see what we got."
   ]
  },
  {
   "cell_type": "code",
   "execution_count": 22,
   "id": "046f5901",
   "metadata": {
    "scrolled": false
   },
   "outputs": [
    {
     "data": {
      "text/html": [
       "<div>\n",
       "<style scoped>\n",
       "    .dataframe tbody tr th:only-of-type {\n",
       "        vertical-align: middle;\n",
       "    }\n",
       "\n",
       "    .dataframe tbody tr th {\n",
       "        vertical-align: top;\n",
       "    }\n",
       "\n",
       "    .dataframe thead th {\n",
       "        text-align: right;\n",
       "    }\n",
       "</style>\n",
       "<table border=\"1\" class=\"dataframe\">\n",
       "  <thead>\n",
       "    <tr style=\"text-align: right;\">\n",
       "      <th></th>\n",
       "      <th>support</th>\n",
       "      <th>itemsets</th>\n",
       "    </tr>\n",
       "  </thead>\n",
       "  <tbody>\n",
       "    <tr>\n",
       "      <th>0</th>\n",
       "      <td>0.017692</td>\n",
       "      <td>(baking powder)</td>\n",
       "    </tr>\n",
       "    <tr>\n",
       "      <th>1</th>\n",
       "      <td>0.052466</td>\n",
       "      <td>(beef)</td>\n",
       "    </tr>\n",
       "    <tr>\n",
       "      <th>2</th>\n",
       "      <td>0.033249</td>\n",
       "      <td>(berries)</td>\n",
       "    </tr>\n",
       "    <tr>\n",
       "      <th>3</th>\n",
       "      <td>0.026029</td>\n",
       "      <td>(beverages)</td>\n",
       "    </tr>\n",
       "    <tr>\n",
       "      <th>4</th>\n",
       "      <td>0.080529</td>\n",
       "      <td>(bottled beer)</td>\n",
       "    </tr>\n",
       "    <tr>\n",
       "      <th>...</th>\n",
       "      <td>...</td>\n",
       "      <td>...</td>\n",
       "    </tr>\n",
       "    <tr>\n",
       "      <th>175</th>\n",
       "      <td>0.023183</td>\n",
       "      <td>(whole milk, root vegetables, other vegetables)</td>\n",
       "    </tr>\n",
       "    <tr>\n",
       "      <th>176</th>\n",
       "      <td>0.017082</td>\n",
       "      <td>(whole milk, other vegetables, tropical fruit)</td>\n",
       "    </tr>\n",
       "    <tr>\n",
       "      <th>177</th>\n",
       "      <td>0.022267</td>\n",
       "      <td>(whole milk, yogurt, other vegetables)</td>\n",
       "    </tr>\n",
       "    <tr>\n",
       "      <th>178</th>\n",
       "      <td>0.015557</td>\n",
       "      <td>(whole milk, rolls/buns, yogurt)</td>\n",
       "    </tr>\n",
       "    <tr>\n",
       "      <th>179</th>\n",
       "      <td>0.015150</td>\n",
       "      <td>(whole milk, yogurt, tropical fruit)</td>\n",
       "    </tr>\n",
       "  </tbody>\n",
       "</table>\n",
       "<p>180 rows × 2 columns</p>\n",
       "</div>"
      ],
      "text/plain": [
       "      support                                         itemsets\n",
       "0    0.017692                                  (baking powder)\n",
       "1    0.052466                                           (beef)\n",
       "2    0.033249                                        (berries)\n",
       "3    0.026029                                      (beverages)\n",
       "4    0.080529                                   (bottled beer)\n",
       "..        ...                                              ...\n",
       "175  0.023183  (whole milk, root vegetables, other vegetables)\n",
       "176  0.017082   (whole milk, other vegetables, tropical fruit)\n",
       "177  0.022267           (whole milk, yogurt, other vegetables)\n",
       "178  0.015557                 (whole milk, rolls/buns, yogurt)\n",
       "179  0.015150             (whole milk, yogurt, tropical fruit)\n",
       "\n",
       "[180 rows x 2 columns]"
      ]
     },
     "execution_count": 22,
     "metadata": {},
     "output_type": "execute_result"
    }
   ],
   "source": [
    "frequent_item_sets\n"
   ]
  },
  {
   "cell_type": "markdown",
   "id": "6fab2e83",
   "metadata": {},
   "source": [
    "From the output, we can tell that there are $180$ itemsets with a minimum support value of $0.015$. To get a better sense of which itemsets have the lowest or highest support values, let's sort the data (in descending order of support):"
   ]
  },
  {
   "cell_type": "code",
   "execution_count": 23,
   "id": "bfba8e98",
   "metadata": {},
   "outputs": [
    {
     "data": {
      "text/html": [
       "<div>\n",
       "<style scoped>\n",
       "    .dataframe tbody tr th:only-of-type {\n",
       "        vertical-align: middle;\n",
       "    }\n",
       "\n",
       "    .dataframe tbody tr th {\n",
       "        vertical-align: top;\n",
       "    }\n",
       "\n",
       "    .dataframe thead th {\n",
       "        text-align: right;\n",
       "    }\n",
       "</style>\n",
       "<table border=\"1\" class=\"dataframe\">\n",
       "  <thead>\n",
       "    <tr style=\"text-align: right;\">\n",
       "      <th></th>\n",
       "      <th>support</th>\n",
       "      <th>itemsets</th>\n",
       "    </tr>\n",
       "  </thead>\n",
       "  <tbody>\n",
       "    <tr>\n",
       "      <th>71</th>\n",
       "      <td>0.255516</td>\n",
       "      <td>(whole milk)</td>\n",
       "    </tr>\n",
       "    <tr>\n",
       "      <th>44</th>\n",
       "      <td>0.193493</td>\n",
       "      <td>(other vegetables)</td>\n",
       "    </tr>\n",
       "    <tr>\n",
       "      <th>53</th>\n",
       "      <td>0.183935</td>\n",
       "      <td>(rolls/buns)</td>\n",
       "    </tr>\n",
       "    <tr>\n",
       "      <th>60</th>\n",
       "      <td>0.174377</td>\n",
       "      <td>(soda)</td>\n",
       "    </tr>\n",
       "    <tr>\n",
       "      <th>72</th>\n",
       "      <td>0.139502</td>\n",
       "      <td>(yogurt)</td>\n",
       "    </tr>\n",
       "    <tr>\n",
       "      <th>...</th>\n",
       "      <td>...</td>\n",
       "      <td>...</td>\n",
       "    </tr>\n",
       "    <tr>\n",
       "      <th>163</th>\n",
       "      <td>0.015252</td>\n",
       "      <td>(yogurt, shopping bags)</td>\n",
       "    </tr>\n",
       "    <tr>\n",
       "      <th>179</th>\n",
       "      <td>0.015150</td>\n",
       "      <td>(whole milk, yogurt, tropical fruit)</td>\n",
       "    </tr>\n",
       "    <tr>\n",
       "      <th>45</th>\n",
       "      <td>0.015048</td>\n",
       "      <td>(pasta)</td>\n",
       "    </tr>\n",
       "    <tr>\n",
       "      <th>11</th>\n",
       "      <td>0.015048</td>\n",
       "      <td>(canned fish)</td>\n",
       "    </tr>\n",
       "    <tr>\n",
       "      <th>167</th>\n",
       "      <td>0.015048</td>\n",
       "      <td>(whole milk, sugar)</td>\n",
       "    </tr>\n",
       "  </tbody>\n",
       "</table>\n",
       "<p>180 rows × 2 columns</p>\n",
       "</div>"
      ],
      "text/plain": [
       "      support                              itemsets\n",
       "71   0.255516                          (whole milk)\n",
       "44   0.193493                    (other vegetables)\n",
       "53   0.183935                          (rolls/buns)\n",
       "60   0.174377                                (soda)\n",
       "72   0.139502                              (yogurt)\n",
       "..        ...                                   ...\n",
       "163  0.015252               (yogurt, shopping bags)\n",
       "179  0.015150  (whole milk, yogurt, tropical fruit)\n",
       "45   0.015048                               (pasta)\n",
       "11   0.015048                         (canned fish)\n",
       "167  0.015048                   (whole milk, sugar)\n",
       "\n",
       "[180 rows x 2 columns]"
      ]
     },
     "execution_count": 23,
     "metadata": {},
     "output_type": "execute_result"
    }
   ],
   "source": [
    "frequent_item_sets.sort_values('support',ascending = False)"
   ]
  },
  {
   "cell_type": "markdown",
   "id": "3f5fac31",
   "metadata": {},
   "source": [
    "We see that `{whole milk}`, `{other vegetables}`, `{rolls/buns}`, `{soda}`, and `{yogurt}` are the five most frequently bought items in the store.\n",
    "\n",
    "One of the benefits of working with pandas DataFrames is that we can easily transform and filter our results to meet our needs. For example, let's assume that we are only interested in frequent itemsets with a length greater than $2$. We start by getting the length of the items in the `itemsets` column as follows:"
   ]
  },
  {
   "cell_type": "code",
   "execution_count": 27,
   "id": "48ad4460",
   "metadata": {},
   "outputs": [],
   "source": [
    "length = frequent_item_sets['itemsets'].str.len()"
   ]
  },
  {
   "cell_type": "markdown",
   "id": "09d2d49b",
   "metadata": {},
   "source": [
    "Then we create a logical filter based on the length of the item sets:  "
   ]
  },
  {
   "cell_type": "code",
   "execution_count": 33,
   "id": "8302997b",
   "metadata": {
    "scrolled": true
   },
   "outputs": [],
   "source": [
    "rows = length > 2"
   ]
  },
  {
   "cell_type": "markdown",
   "id": "7609fc56",
   "metadata": {},
   "source": [
    "Finally, we apply the filter to the `frequent_itemsets` DataFrame:"
   ]
  },
  {
   "cell_type": "code",
   "execution_count": 34,
   "id": "be48d27a",
   "metadata": {},
   "outputs": [
    {
     "data": {
      "text/html": [
       "<div>\n",
       "<style scoped>\n",
       "    .dataframe tbody tr th:only-of-type {\n",
       "        vertical-align: middle;\n",
       "    }\n",
       "\n",
       "    .dataframe tbody tr th {\n",
       "        vertical-align: top;\n",
       "    }\n",
       "\n",
       "    .dataframe thead th {\n",
       "        text-align: right;\n",
       "    }\n",
       "</style>\n",
       "<table border=\"1\" class=\"dataframe\">\n",
       "  <thead>\n",
       "    <tr style=\"text-align: right;\">\n",
       "      <th></th>\n",
       "      <th>support</th>\n",
       "      <th>itemsets</th>\n",
       "    </tr>\n",
       "  </thead>\n",
       "  <tbody>\n",
       "    <tr>\n",
       "      <th>174</th>\n",
       "      <td>0.017895</td>\n",
       "      <td>(whole milk, rolls/buns, other vegetables)</td>\n",
       "    </tr>\n",
       "    <tr>\n",
       "      <th>175</th>\n",
       "      <td>0.023183</td>\n",
       "      <td>(whole milk, root vegetables, other vegetables)</td>\n",
       "    </tr>\n",
       "    <tr>\n",
       "      <th>176</th>\n",
       "      <td>0.017082</td>\n",
       "      <td>(whole milk, other vegetables, tropical fruit)</td>\n",
       "    </tr>\n",
       "    <tr>\n",
       "      <th>177</th>\n",
       "      <td>0.022267</td>\n",
       "      <td>(whole milk, yogurt, other vegetables)</td>\n",
       "    </tr>\n",
       "    <tr>\n",
       "      <th>178</th>\n",
       "      <td>0.015557</td>\n",
       "      <td>(whole milk, rolls/buns, yogurt)</td>\n",
       "    </tr>\n",
       "    <tr>\n",
       "      <th>179</th>\n",
       "      <td>0.015150</td>\n",
       "      <td>(whole milk, yogurt, tropical fruit)</td>\n",
       "    </tr>\n",
       "  </tbody>\n",
       "</table>\n",
       "</div>"
      ],
      "text/plain": [
       "      support                                         itemsets\n",
       "174  0.017895       (whole milk, rolls/buns, other vegetables)\n",
       "175  0.023183  (whole milk, root vegetables, other vegetables)\n",
       "176  0.017082   (whole milk, other vegetables, tropical fruit)\n",
       "177  0.022267           (whole milk, yogurt, other vegetables)\n",
       "178  0.015557                 (whole milk, rolls/buns, yogurt)\n",
       "179  0.015150             (whole milk, yogurt, tropical fruit)"
      ]
     },
     "execution_count": 34,
     "metadata": {},
     "output_type": "execute_result"
    }
   ],
   "source": [
    "frequent_item_sets[rows]"
   ]
  },
  {
   "cell_type": "markdown",
   "id": "c95b1cc5",
   "metadata": {},
   "source": [
    "Now we see the six frequent itemsets with a length greater than $2$.\n",
    "\n",
    "We can also use the `describe()` method of a pandas DataFrame to get a big picture view of the distribution of values in the data. For example, to get a statistical summary of the support values by itemset length, we do the following:"
   ]
  },
  {
   "cell_type": "code",
   "execution_count": 40,
   "id": "93699e5d",
   "metadata": {},
   "outputs": [
    {
     "data": {
      "text/html": [
       "<div>\n",
       "<style scoped>\n",
       "    .dataframe tbody tr th:only-of-type {\n",
       "        vertical-align: middle;\n",
       "    }\n",
       "\n",
       "    .dataframe tbody tr th {\n",
       "        vertical-align: top;\n",
       "    }\n",
       "\n",
       "    .dataframe thead th {\n",
       "        text-align: right;\n",
       "    }\n",
       "</style>\n",
       "<table border=\"1\" class=\"dataframe\">\n",
       "  <thead>\n",
       "    <tr style=\"text-align: right;\">\n",
       "      <th></th>\n",
       "      <th>count</th>\n",
       "      <th>mean</th>\n",
       "      <th>std</th>\n",
       "      <th>min</th>\n",
       "      <th>25%</th>\n",
       "      <th>50%</th>\n",
       "      <th>75%</th>\n",
       "      <th>max</th>\n",
       "    </tr>\n",
       "    <tr>\n",
       "      <th>itemsets</th>\n",
       "      <th></th>\n",
       "      <th></th>\n",
       "      <th></th>\n",
       "      <th></th>\n",
       "      <th></th>\n",
       "      <th></th>\n",
       "      <th></th>\n",
       "      <th></th>\n",
       "    </tr>\n",
       "  </thead>\n",
       "  <tbody>\n",
       "    <tr>\n",
       "      <th>1</th>\n",
       "      <td>73.0</td>\n",
       "      <td>0.053441</td>\n",
       "      <td>0.045956</td>\n",
       "      <td>0.015048</td>\n",
       "      <td>0.024504</td>\n",
       "      <td>0.037112</td>\n",
       "      <td>0.064870</td>\n",
       "      <td>0.255516</td>\n",
       "    </tr>\n",
       "    <tr>\n",
       "      <th>2</th>\n",
       "      <td>101.0</td>\n",
       "      <td>0.024799</td>\n",
       "      <td>0.010058</td>\n",
       "      <td>0.015048</td>\n",
       "      <td>0.018404</td>\n",
       "      <td>0.021047</td>\n",
       "      <td>0.027555</td>\n",
       "      <td>0.074835</td>\n",
       "    </tr>\n",
       "    <tr>\n",
       "      <th>3</th>\n",
       "      <td>6.0</td>\n",
       "      <td>0.018522</td>\n",
       "      <td>0.003417</td>\n",
       "      <td>0.015150</td>\n",
       "      <td>0.015938</td>\n",
       "      <td>0.017489</td>\n",
       "      <td>0.021174</td>\n",
       "      <td>0.023183</td>\n",
       "    </tr>\n",
       "  </tbody>\n",
       "</table>\n",
       "</div>"
      ],
      "text/plain": [
       "          count      mean       std       min       25%       50%       75%  \\\n",
       "itemsets                                                                      \n",
       "1          73.0  0.053441  0.045956  0.015048  0.024504  0.037112  0.064870   \n",
       "2         101.0  0.024799  0.010058  0.015048  0.018404  0.021047  0.027555   \n",
       "3           6.0  0.018522  0.003417  0.015150  0.015938  0.017489  0.021174   \n",
       "\n",
       "               max  \n",
       "itemsets            \n",
       "1         0.255516  \n",
       "2         0.074835  \n",
       "3         0.023183  "
      ]
     },
     "execution_count": 40,
     "metadata": {},
     "output_type": "execute_result"
    }
   ],
   "source": [
    "frequent_item_sets.groupby(length)['support'].describe()"
   ]
  },
  {
   "cell_type": "markdown",
   "id": "5d19add4",
   "metadata": {},
   "source": [
    "The `count` column tells us that the majority of the transactions that are considered frequent are two-item purchases ($101$), while the `mean` and `50%` columns, tell us that transactions with a length of $1$ typically have higher support values than those with a length of $2$ or $3$."
   ]
  },
  {
   "cell_type": "markdown",
   "id": "ad623ab0",
   "metadata": {},
   "source": [
    "In this tutorial we only use the `apriori` frequent itemset generation function. Note that if you want to try out the `fpgrowth` or the `fpmax` functions, you simply need to import them as follows:\n",
    "```python\n",
    "from mlxtend.frequent_patterns import fpgrowth\n",
    "```\n",
    "or\n",
    "```python\n",
    "from mlxtend.frequent_patterns import fpmax\n",
    "```\n",
    "Then you can generate frequent itemsets using the applicable function just as we've done here."
   ]
  },
  {
   "cell_type": "markdown",
   "id": "7ca7bb2b",
   "metadata": {},
   "source": [
    "## 3. Create Association Rules"
   ]
  },
  {
   "cell_type": "markdown",
   "id": "35760fca",
   "metadata": {},
   "source": [
    "The next step in our market basket analysis process is to create association rules that describe the co-occurrence of itemsets within the transaction set. The `association_rules` function in the `mlxtend.frequent_patterns` subpackage allows us to create these rules. Let's import it."
   ]
  },
  {
   "cell_type": "code",
   "execution_count": 41,
   "id": "de30bca1",
   "metadata": {},
   "outputs": [],
   "source": [
    "from mlxtend.frequent_patterns import association_rules"
   ]
  },
  {
   "cell_type": "markdown",
   "id": "f32625b6",
   "metadata": {},
   "source": [
    "The `association_rules` function takes several arguments. The first is the frequent itemset. The next is the metric we intend to use to filter the rules for significance. This can either be \"*support*\", \"*confidence*\", \"*lift*\", \"*leverage*\" or \"*conviction*\". \n",
    "\n",
    "Let's assume that we want to limit our focus to rules that have a confidence of `0.25` or more. To do this, we set the `metric` argument to `\"confidence\"` and the `min_threshold` argument to `0.25`."
   ]
  },
  {
   "cell_type": "code",
   "execution_count": 42,
   "id": "ee562710",
   "metadata": {},
   "outputs": [],
   "source": [
    "rules = association_rules(frequent_item_sets,metric='confidence',min_threshold=0.25)"
   ]
  },
  {
   "cell_type": "markdown",
   "id": "bc7cced1",
   "metadata": {},
   "source": [
    "Let's see what rules were generated."
   ]
  },
  {
   "cell_type": "code",
   "execution_count": 43,
   "id": "4def968e",
   "metadata": {
    "scrolled": false
   },
   "outputs": [
    {
     "data": {
      "text/html": [
       "<div>\n",
       "<style scoped>\n",
       "    .dataframe tbody tr th:only-of-type {\n",
       "        vertical-align: middle;\n",
       "    }\n",
       "\n",
       "    .dataframe tbody tr th {\n",
       "        vertical-align: top;\n",
       "    }\n",
       "\n",
       "    .dataframe thead th {\n",
       "        text-align: right;\n",
       "    }\n",
       "</style>\n",
       "<table border=\"1\" class=\"dataframe\">\n",
       "  <thead>\n",
       "    <tr style=\"text-align: right;\">\n",
       "      <th></th>\n",
       "      <th>antecedents</th>\n",
       "      <th>consequents</th>\n",
       "      <th>antecedent support</th>\n",
       "      <th>consequent support</th>\n",
       "      <th>support</th>\n",
       "      <th>confidence</th>\n",
       "      <th>lift</th>\n",
       "      <th>leverage</th>\n",
       "      <th>conviction</th>\n",
       "    </tr>\n",
       "  </thead>\n",
       "  <tbody>\n",
       "    <tr>\n",
       "      <th>0</th>\n",
       "      <td>(beef)</td>\n",
       "      <td>(other vegetables)</td>\n",
       "      <td>0.052466</td>\n",
       "      <td>0.193493</td>\n",
       "      <td>0.019725</td>\n",
       "      <td>0.375969</td>\n",
       "      <td>1.943066</td>\n",
       "      <td>0.009574</td>\n",
       "      <td>1.292416</td>\n",
       "    </tr>\n",
       "    <tr>\n",
       "      <th>1</th>\n",
       "      <td>(beef)</td>\n",
       "      <td>(root vegetables)</td>\n",
       "      <td>0.052466</td>\n",
       "      <td>0.108998</td>\n",
       "      <td>0.017387</td>\n",
       "      <td>0.331395</td>\n",
       "      <td>3.040367</td>\n",
       "      <td>0.011668</td>\n",
       "      <td>1.332628</td>\n",
       "    </tr>\n",
       "    <tr>\n",
       "      <th>2</th>\n",
       "      <td>(beef)</td>\n",
       "      <td>(whole milk)</td>\n",
       "      <td>0.052466</td>\n",
       "      <td>0.255516</td>\n",
       "      <td>0.021251</td>\n",
       "      <td>0.405039</td>\n",
       "      <td>1.585180</td>\n",
       "      <td>0.007845</td>\n",
       "      <td>1.251315</td>\n",
       "    </tr>\n",
       "    <tr>\n",
       "      <th>3</th>\n",
       "      <td>(bottled beer)</td>\n",
       "      <td>(whole milk)</td>\n",
       "      <td>0.080529</td>\n",
       "      <td>0.255516</td>\n",
       "      <td>0.020437</td>\n",
       "      <td>0.253788</td>\n",
       "      <td>0.993237</td>\n",
       "      <td>-0.000139</td>\n",
       "      <td>0.997684</td>\n",
       "    </tr>\n",
       "    <tr>\n",
       "      <th>4</th>\n",
       "      <td>(bottled water)</td>\n",
       "      <td>(soda)</td>\n",
       "      <td>0.110524</td>\n",
       "      <td>0.174377</td>\n",
       "      <td>0.028978</td>\n",
       "      <td>0.262190</td>\n",
       "      <td>1.503577</td>\n",
       "      <td>0.009705</td>\n",
       "      <td>1.119017</td>\n",
       "    </tr>\n",
       "    <tr>\n",
       "      <th>...</th>\n",
       "      <td>...</td>\n",
       "      <td>...</td>\n",
       "      <td>...</td>\n",
       "      <td>...</td>\n",
       "      <td>...</td>\n",
       "      <td>...</td>\n",
       "      <td>...</td>\n",
       "      <td>...</td>\n",
       "      <td>...</td>\n",
       "    </tr>\n",
       "    <tr>\n",
       "      <th>73</th>\n",
       "      <td>(whole milk, yogurt)</td>\n",
       "      <td>(rolls/buns)</td>\n",
       "      <td>0.056024</td>\n",
       "      <td>0.183935</td>\n",
       "      <td>0.015557</td>\n",
       "      <td>0.277677</td>\n",
       "      <td>1.509648</td>\n",
       "      <td>0.005252</td>\n",
       "      <td>1.129779</td>\n",
       "    </tr>\n",
       "    <tr>\n",
       "      <th>74</th>\n",
       "      <td>(rolls/buns, yogurt)</td>\n",
       "      <td>(whole milk)</td>\n",
       "      <td>0.034367</td>\n",
       "      <td>0.255516</td>\n",
       "      <td>0.015557</td>\n",
       "      <td>0.452663</td>\n",
       "      <td>1.771563</td>\n",
       "      <td>0.006775</td>\n",
       "      <td>1.360192</td>\n",
       "    </tr>\n",
       "    <tr>\n",
       "      <th>75</th>\n",
       "      <td>(whole milk, yogurt)</td>\n",
       "      <td>(tropical fruit)</td>\n",
       "      <td>0.056024</td>\n",
       "      <td>0.104931</td>\n",
       "      <td>0.015150</td>\n",
       "      <td>0.270417</td>\n",
       "      <td>2.577089</td>\n",
       "      <td>0.009271</td>\n",
       "      <td>1.226823</td>\n",
       "    </tr>\n",
       "    <tr>\n",
       "      <th>76</th>\n",
       "      <td>(whole milk, tropical fruit)</td>\n",
       "      <td>(yogurt)</td>\n",
       "      <td>0.042298</td>\n",
       "      <td>0.139502</td>\n",
       "      <td>0.015150</td>\n",
       "      <td>0.358173</td>\n",
       "      <td>2.567516</td>\n",
       "      <td>0.009249</td>\n",
       "      <td>1.340701</td>\n",
       "    </tr>\n",
       "    <tr>\n",
       "      <th>77</th>\n",
       "      <td>(yogurt, tropical fruit)</td>\n",
       "      <td>(whole milk)</td>\n",
       "      <td>0.029283</td>\n",
       "      <td>0.255516</td>\n",
       "      <td>0.015150</td>\n",
       "      <td>0.517361</td>\n",
       "      <td>2.024770</td>\n",
       "      <td>0.007668</td>\n",
       "      <td>1.542528</td>\n",
       "    </tr>\n",
       "  </tbody>\n",
       "</table>\n",
       "<p>78 rows × 9 columns</p>\n",
       "</div>"
      ],
      "text/plain": [
       "                     antecedents         consequents  antecedent support  \\\n",
       "0                         (beef)  (other vegetables)            0.052466   \n",
       "1                         (beef)   (root vegetables)            0.052466   \n",
       "2                         (beef)        (whole milk)            0.052466   \n",
       "3                 (bottled beer)        (whole milk)            0.080529   \n",
       "4                (bottled water)              (soda)            0.110524   \n",
       "..                           ...                 ...                 ...   \n",
       "73          (whole milk, yogurt)        (rolls/buns)            0.056024   \n",
       "74          (rolls/buns, yogurt)        (whole milk)            0.034367   \n",
       "75          (whole milk, yogurt)    (tropical fruit)            0.056024   \n",
       "76  (whole milk, tropical fruit)            (yogurt)            0.042298   \n",
       "77      (yogurt, tropical fruit)        (whole milk)            0.029283   \n",
       "\n",
       "    consequent support   support  confidence      lift  leverage  conviction  \n",
       "0             0.193493  0.019725    0.375969  1.943066  0.009574    1.292416  \n",
       "1             0.108998  0.017387    0.331395  3.040367  0.011668    1.332628  \n",
       "2             0.255516  0.021251    0.405039  1.585180  0.007845    1.251315  \n",
       "3             0.255516  0.020437    0.253788  0.993237 -0.000139    0.997684  \n",
       "4             0.174377  0.028978    0.262190  1.503577  0.009705    1.119017  \n",
       "..                 ...       ...         ...       ...       ...         ...  \n",
       "73            0.183935  0.015557    0.277677  1.509648  0.005252    1.129779  \n",
       "74            0.255516  0.015557    0.452663  1.771563  0.006775    1.360192  \n",
       "75            0.104931  0.015150    0.270417  2.577089  0.009271    1.226823  \n",
       "76            0.139502  0.015150    0.358173  2.567516  0.009249    1.340701  \n",
       "77            0.255516  0.015150    0.517361  2.024770  0.007668    1.542528  \n",
       "\n",
       "[78 rows x 9 columns]"
      ]
     },
     "execution_count": 43,
     "metadata": {},
     "output_type": "execute_result"
    }
   ],
   "source": [
    "rules\n"
   ]
  },
  {
   "cell_type": "markdown",
   "id": "b0c280a5",
   "metadata": {},
   "source": [
    "There are $78$ association rules that meet our criteria. Each rule is made up of an antecedent and a consequent. For each rule, we get metrics that tell us the support of the antecedent and the support of the consequent. We also get metrics that tell us the support, confidence, lift, leverage and conviction of each rule. "
   ]
  },
  {
   "cell_type": "markdown",
   "id": "24309c60",
   "metadata": {},
   "source": [
    "Because our rules are returned as a pandas DataFrames we can easily transform and filter the data to find what we need. For example, let's say we're only interested in rules that include `'rolls/buns'` in the antecedent. We start by creating a logical expression as a filter:"
   ]
  },
  {
   "cell_type": "code",
   "execution_count": 44,
   "id": "95cd1177",
   "metadata": {},
   "outputs": [],
   "source": [
    "rows = rules['antecedents'] == {'rolls/buns'}"
   ]
  },
  {
   "cell_type": "markdown",
   "id": "2a2ec99f",
   "metadata": {},
   "source": [
    "Note that the entries in the `antecedents` and `consequents` columns are of type frozenset, which is why we include the curly braces `{}` around the item names.\n",
    "\n",
    "The next step is to apply the filter to the `rules` DataFrame:"
   ]
  },
  {
   "cell_type": "code",
   "execution_count": 45,
   "id": "67debed5",
   "metadata": {
    "scrolled": true
   },
   "outputs": [
    {
     "data": {
      "text/html": [
       "<div>\n",
       "<style scoped>\n",
       "    .dataframe tbody tr th:only-of-type {\n",
       "        vertical-align: middle;\n",
       "    }\n",
       "\n",
       "    .dataframe tbody tr th {\n",
       "        vertical-align: top;\n",
       "    }\n",
       "\n",
       "    .dataframe thead th {\n",
       "        text-align: right;\n",
       "    }\n",
       "</style>\n",
       "<table border=\"1\" class=\"dataframe\">\n",
       "  <thead>\n",
       "    <tr style=\"text-align: right;\">\n",
       "      <th></th>\n",
       "      <th>antecedents</th>\n",
       "      <th>consequents</th>\n",
       "      <th>antecedent support</th>\n",
       "      <th>consequent support</th>\n",
       "      <th>support</th>\n",
       "      <th>confidence</th>\n",
       "      <th>lift</th>\n",
       "      <th>leverage</th>\n",
       "      <th>conviction</th>\n",
       "    </tr>\n",
       "  </thead>\n",
       "  <tbody>\n",
       "    <tr>\n",
       "      <th>51</th>\n",
       "      <td>(rolls/buns)</td>\n",
       "      <td>(whole milk)</td>\n",
       "      <td>0.183935</td>\n",
       "      <td>0.255516</td>\n",
       "      <td>0.056634</td>\n",
       "      <td>0.307905</td>\n",
       "      <td>1.205032</td>\n",
       "      <td>0.009636</td>\n",
       "      <td>1.075696</td>\n",
       "    </tr>\n",
       "  </tbody>\n",
       "</table>\n",
       "</div>"
      ],
      "text/plain": [
       "     antecedents   consequents  antecedent support  consequent support  \\\n",
       "51  (rolls/buns)  (whole milk)            0.183935            0.255516   \n",
       "\n",
       "     support  confidence      lift  leverage  conviction  \n",
       "51  0.056634    0.307905  1.205032  0.009636    1.075696  "
      ]
     },
     "execution_count": 45,
     "metadata": {},
     "output_type": "execute_result"
    }
   ],
   "source": [
    "rules[rows]"
   ]
  },
  {
   "cell_type": "markdown",
   "id": "ad0bab57",
   "metadata": {},
   "source": [
    "We get $1$ rule that matches our criteria. As you can imagine, we can create a similar filter with the consequent:"
   ]
  },
  {
   "cell_type": "code",
   "execution_count": 46,
   "id": "c687d53f",
   "metadata": {
    "scrolled": true
   },
   "outputs": [
    {
     "data": {
      "text/html": [
       "<div>\n",
       "<style scoped>\n",
       "    .dataframe tbody tr th:only-of-type {\n",
       "        vertical-align: middle;\n",
       "    }\n",
       "\n",
       "    .dataframe tbody tr th {\n",
       "        vertical-align: top;\n",
       "    }\n",
       "\n",
       "    .dataframe thead th {\n",
       "        text-align: right;\n",
       "    }\n",
       "</style>\n",
       "<table border=\"1\" class=\"dataframe\">\n",
       "  <thead>\n",
       "    <tr style=\"text-align: right;\">\n",
       "      <th></th>\n",
       "      <th>antecedents</th>\n",
       "      <th>consequents</th>\n",
       "      <th>antecedent support</th>\n",
       "      <th>consequent support</th>\n",
       "      <th>support</th>\n",
       "      <th>confidence</th>\n",
       "      <th>lift</th>\n",
       "      <th>leverage</th>\n",
       "      <th>conviction</th>\n",
       "    </tr>\n",
       "  </thead>\n",
       "  <tbody>\n",
       "    <tr>\n",
       "      <th>24</th>\n",
       "      <td>(frankfurter)</td>\n",
       "      <td>(rolls/buns)</td>\n",
       "      <td>0.058973</td>\n",
       "      <td>0.183935</td>\n",
       "      <td>0.019217</td>\n",
       "      <td>0.325862</td>\n",
       "      <td>1.771616</td>\n",
       "      <td>0.008370</td>\n",
       "      <td>1.210531</td>\n",
       "    </tr>\n",
       "    <tr>\n",
       "      <th>50</th>\n",
       "      <td>(sausage)</td>\n",
       "      <td>(rolls/buns)</td>\n",
       "      <td>0.093950</td>\n",
       "      <td>0.183935</td>\n",
       "      <td>0.030605</td>\n",
       "      <td>0.325758</td>\n",
       "      <td>1.771048</td>\n",
       "      <td>0.013324</td>\n",
       "      <td>1.210344</td>\n",
       "    </tr>\n",
       "    <tr>\n",
       "      <th>73</th>\n",
       "      <td>(whole milk, yogurt)</td>\n",
       "      <td>(rolls/buns)</td>\n",
       "      <td>0.056024</td>\n",
       "      <td>0.183935</td>\n",
       "      <td>0.015557</td>\n",
       "      <td>0.277677</td>\n",
       "      <td>1.509648</td>\n",
       "      <td>0.005252</td>\n",
       "      <td>1.129779</td>\n",
       "    </tr>\n",
       "  </tbody>\n",
       "</table>\n",
       "</div>"
      ],
      "text/plain": [
       "             antecedents   consequents  antecedent support  \\\n",
       "24         (frankfurter)  (rolls/buns)            0.058973   \n",
       "50             (sausage)  (rolls/buns)            0.093950   \n",
       "73  (whole milk, yogurt)  (rolls/buns)            0.056024   \n",
       "\n",
       "    consequent support   support  confidence      lift  leverage  conviction  \n",
       "24            0.183935  0.019217    0.325862  1.771616  0.008370    1.210531  \n",
       "50            0.183935  0.030605    0.325758  1.771048  0.013324    1.210344  \n",
       "73            0.183935  0.015557    0.277677  1.509648  0.005252    1.129779  "
      ]
     },
     "execution_count": 46,
     "metadata": {},
     "output_type": "execute_result"
    }
   ],
   "source": [
    "rows = rules['consequents'] == {'rolls/buns'}\n",
    "rules[rows]"
   ]
  },
  {
   "cell_type": "markdown",
   "id": "42945c19",
   "metadata": {},
   "source": [
    "This time, we get $3$ rules that match our filter.\n",
    "\n",
    "Note that in the previous two examples, we only matched rules with `'rolls/buns'` alone as the antecedent or the consequent. If our goal is to match all rules with `'rolls/buns'` and any other item in the antecedent for example, we would need to convert the antecedent column to a string, vectorize the string and use the `contains()` method in the following way:"
   ]
  },
  {
   "cell_type": "code",
   "execution_count": 49,
   "id": "ee998e24",
   "metadata": {
    "scrolled": true
   },
   "outputs": [
    {
     "data": {
      "text/html": [
       "<div>\n",
       "<style scoped>\n",
       "    .dataframe tbody tr th:only-of-type {\n",
       "        vertical-align: middle;\n",
       "    }\n",
       "\n",
       "    .dataframe tbody tr th {\n",
       "        vertical-align: top;\n",
       "    }\n",
       "\n",
       "    .dataframe thead th {\n",
       "        text-align: right;\n",
       "    }\n",
       "</style>\n",
       "<table border=\"1\" class=\"dataframe\">\n",
       "  <thead>\n",
       "    <tr style=\"text-align: right;\">\n",
       "      <th></th>\n",
       "      <th>antecedents</th>\n",
       "      <th>consequents</th>\n",
       "      <th>antecedent support</th>\n",
       "      <th>consequent support</th>\n",
       "      <th>support</th>\n",
       "      <th>confidence</th>\n",
       "      <th>lift</th>\n",
       "      <th>leverage</th>\n",
       "      <th>conviction</th>\n",
       "    </tr>\n",
       "  </thead>\n",
       "  <tbody>\n",
       "    <tr>\n",
       "      <th>51</th>\n",
       "      <td>(rolls/buns)</td>\n",
       "      <td>(whole milk)</td>\n",
       "      <td>0.183935</td>\n",
       "      <td>0.255516</td>\n",
       "      <td>0.056634</td>\n",
       "      <td>0.307905</td>\n",
       "      <td>1.205032</td>\n",
       "      <td>0.009636</td>\n",
       "      <td>1.075696</td>\n",
       "    </tr>\n",
       "    <tr>\n",
       "      <th>62</th>\n",
       "      <td>(whole milk, rolls/buns)</td>\n",
       "      <td>(other vegetables)</td>\n",
       "      <td>0.056634</td>\n",
       "      <td>0.193493</td>\n",
       "      <td>0.017895</td>\n",
       "      <td>0.315978</td>\n",
       "      <td>1.633026</td>\n",
       "      <td>0.006937</td>\n",
       "      <td>1.179067</td>\n",
       "    </tr>\n",
       "    <tr>\n",
       "      <th>63</th>\n",
       "      <td>(rolls/buns, other vegetables)</td>\n",
       "      <td>(whole milk)</td>\n",
       "      <td>0.042603</td>\n",
       "      <td>0.255516</td>\n",
       "      <td>0.017895</td>\n",
       "      <td>0.420048</td>\n",
       "      <td>1.643919</td>\n",
       "      <td>0.007010</td>\n",
       "      <td>1.283699</td>\n",
       "    </tr>\n",
       "    <tr>\n",
       "      <th>72</th>\n",
       "      <td>(whole milk, rolls/buns)</td>\n",
       "      <td>(yogurt)</td>\n",
       "      <td>0.056634</td>\n",
       "      <td>0.139502</td>\n",
       "      <td>0.015557</td>\n",
       "      <td>0.274686</td>\n",
       "      <td>1.969049</td>\n",
       "      <td>0.007656</td>\n",
       "      <td>1.186380</td>\n",
       "    </tr>\n",
       "    <tr>\n",
       "      <th>74</th>\n",
       "      <td>(rolls/buns, yogurt)</td>\n",
       "      <td>(whole milk)</td>\n",
       "      <td>0.034367</td>\n",
       "      <td>0.255516</td>\n",
       "      <td>0.015557</td>\n",
       "      <td>0.452663</td>\n",
       "      <td>1.771563</td>\n",
       "      <td>0.006775</td>\n",
       "      <td>1.360192</td>\n",
       "    </tr>\n",
       "  </tbody>\n",
       "</table>\n",
       "</div>"
      ],
      "text/plain": [
       "                       antecedents         consequents  antecedent support  \\\n",
       "51                    (rolls/buns)        (whole milk)            0.183935   \n",
       "62        (whole milk, rolls/buns)  (other vegetables)            0.056634   \n",
       "63  (rolls/buns, other vegetables)        (whole milk)            0.042603   \n",
       "72        (whole milk, rolls/buns)            (yogurt)            0.056634   \n",
       "74            (rolls/buns, yogurt)        (whole milk)            0.034367   \n",
       "\n",
       "    consequent support   support  confidence      lift  leverage  conviction  \n",
       "51            0.255516  0.056634    0.307905  1.205032  0.009636    1.075696  \n",
       "62            0.193493  0.017895    0.315978  1.633026  0.006937    1.179067  \n",
       "63            0.255516  0.017895    0.420048  1.643919  0.007010    1.283699  \n",
       "72            0.139502  0.015557    0.274686  1.969049  0.007656    1.186380  \n",
       "74            0.255516  0.015557    0.452663  1.771563  0.006775    1.360192  "
      ]
     },
     "execution_count": 49,
     "metadata": {},
     "output_type": "execute_result"
    }
   ],
   "source": [
    "rows = rules['antecedents'].astype(str).str.contains('rolls/buns')\n",
    "rules[rows]"
   ]
  },
  {
   "cell_type": "markdown",
   "id": "860af7f9",
   "metadata": {},
   "source": [
    "There are $5$ rules with `'rolls/buns'` anywhere in the antecedent.\n",
    "\n",
    "We can aslo filter our rules by the length of the antecedent or consequent. For example, to match only rules with an antecedent length more than `1` we do the following:"
   ]
  },
  {
   "cell_type": "code",
   "execution_count": 50,
   "id": "4a1606ef",
   "metadata": {},
   "outputs": [
    {
     "data": {
      "text/html": [
       "<div>\n",
       "<style scoped>\n",
       "    .dataframe tbody tr th:only-of-type {\n",
       "        vertical-align: middle;\n",
       "    }\n",
       "\n",
       "    .dataframe tbody tr th {\n",
       "        vertical-align: top;\n",
       "    }\n",
       "\n",
       "    .dataframe thead th {\n",
       "        text-align: right;\n",
       "    }\n",
       "</style>\n",
       "<table border=\"1\" class=\"dataframe\">\n",
       "  <thead>\n",
       "    <tr style=\"text-align: right;\">\n",
       "      <th></th>\n",
       "      <th>antecedents</th>\n",
       "      <th>consequents</th>\n",
       "      <th>antecedent support</th>\n",
       "      <th>consequent support</th>\n",
       "      <th>support</th>\n",
       "      <th>confidence</th>\n",
       "      <th>lift</th>\n",
       "      <th>leverage</th>\n",
       "      <th>conviction</th>\n",
       "    </tr>\n",
       "  </thead>\n",
       "  <tbody>\n",
       "    <tr>\n",
       "      <th>62</th>\n",
       "      <td>(whole milk, rolls/buns)</td>\n",
       "      <td>(other vegetables)</td>\n",
       "      <td>0.056634</td>\n",
       "      <td>0.193493</td>\n",
       "      <td>0.017895</td>\n",
       "      <td>0.315978</td>\n",
       "      <td>1.633026</td>\n",
       "      <td>0.006937</td>\n",
       "      <td>1.179067</td>\n",
       "    </tr>\n",
       "    <tr>\n",
       "      <th>63</th>\n",
       "      <td>(rolls/buns, other vegetables)</td>\n",
       "      <td>(whole milk)</td>\n",
       "      <td>0.042603</td>\n",
       "      <td>0.255516</td>\n",
       "      <td>0.017895</td>\n",
       "      <td>0.420048</td>\n",
       "      <td>1.643919</td>\n",
       "      <td>0.007010</td>\n",
       "      <td>1.283699</td>\n",
       "    </tr>\n",
       "    <tr>\n",
       "      <th>64</th>\n",
       "      <td>(whole milk, root vegetables)</td>\n",
       "      <td>(other vegetables)</td>\n",
       "      <td>0.048907</td>\n",
       "      <td>0.193493</td>\n",
       "      <td>0.023183</td>\n",
       "      <td>0.474012</td>\n",
       "      <td>2.449770</td>\n",
       "      <td>0.013719</td>\n",
       "      <td>1.533320</td>\n",
       "    </tr>\n",
       "    <tr>\n",
       "      <th>65</th>\n",
       "      <td>(whole milk, other vegetables)</td>\n",
       "      <td>(root vegetables)</td>\n",
       "      <td>0.074835</td>\n",
       "      <td>0.108998</td>\n",
       "      <td>0.023183</td>\n",
       "      <td>0.309783</td>\n",
       "      <td>2.842082</td>\n",
       "      <td>0.015026</td>\n",
       "      <td>1.290900</td>\n",
       "    </tr>\n",
       "    <tr>\n",
       "      <th>66</th>\n",
       "      <td>(root vegetables, other vegetables)</td>\n",
       "      <td>(whole milk)</td>\n",
       "      <td>0.047382</td>\n",
       "      <td>0.255516</td>\n",
       "      <td>0.023183</td>\n",
       "      <td>0.489270</td>\n",
       "      <td>1.914833</td>\n",
       "      <td>0.011076</td>\n",
       "      <td>1.457687</td>\n",
       "    </tr>\n",
       "    <tr>\n",
       "      <th>67</th>\n",
       "      <td>(whole milk, tropical fruit)</td>\n",
       "      <td>(other vegetables)</td>\n",
       "      <td>0.042298</td>\n",
       "      <td>0.193493</td>\n",
       "      <td>0.017082</td>\n",
       "      <td>0.403846</td>\n",
       "      <td>2.087140</td>\n",
       "      <td>0.008898</td>\n",
       "      <td>1.352851</td>\n",
       "    </tr>\n",
       "    <tr>\n",
       "      <th>68</th>\n",
       "      <td>(other vegetables, tropical fruit)</td>\n",
       "      <td>(whole milk)</td>\n",
       "      <td>0.035892</td>\n",
       "      <td>0.255516</td>\n",
       "      <td>0.017082</td>\n",
       "      <td>0.475921</td>\n",
       "      <td>1.862587</td>\n",
       "      <td>0.007911</td>\n",
       "      <td>1.420556</td>\n",
       "    </tr>\n",
       "    <tr>\n",
       "      <th>69</th>\n",
       "      <td>(whole milk, yogurt)</td>\n",
       "      <td>(other vegetables)</td>\n",
       "      <td>0.056024</td>\n",
       "      <td>0.193493</td>\n",
       "      <td>0.022267</td>\n",
       "      <td>0.397459</td>\n",
       "      <td>2.054131</td>\n",
       "      <td>0.011427</td>\n",
       "      <td>1.338511</td>\n",
       "    </tr>\n",
       "    <tr>\n",
       "      <th>70</th>\n",
       "      <td>(whole milk, other vegetables)</td>\n",
       "      <td>(yogurt)</td>\n",
       "      <td>0.074835</td>\n",
       "      <td>0.139502</td>\n",
       "      <td>0.022267</td>\n",
       "      <td>0.297554</td>\n",
       "      <td>2.132979</td>\n",
       "      <td>0.011828</td>\n",
       "      <td>1.225003</td>\n",
       "    </tr>\n",
       "    <tr>\n",
       "      <th>71</th>\n",
       "      <td>(yogurt, other vegetables)</td>\n",
       "      <td>(whole milk)</td>\n",
       "      <td>0.043416</td>\n",
       "      <td>0.255516</td>\n",
       "      <td>0.022267</td>\n",
       "      <td>0.512881</td>\n",
       "      <td>2.007235</td>\n",
       "      <td>0.011174</td>\n",
       "      <td>1.528340</td>\n",
       "    </tr>\n",
       "    <tr>\n",
       "      <th>72</th>\n",
       "      <td>(whole milk, rolls/buns)</td>\n",
       "      <td>(yogurt)</td>\n",
       "      <td>0.056634</td>\n",
       "      <td>0.139502</td>\n",
       "      <td>0.015557</td>\n",
       "      <td>0.274686</td>\n",
       "      <td>1.969049</td>\n",
       "      <td>0.007656</td>\n",
       "      <td>1.186380</td>\n",
       "    </tr>\n",
       "    <tr>\n",
       "      <th>73</th>\n",
       "      <td>(whole milk, yogurt)</td>\n",
       "      <td>(rolls/buns)</td>\n",
       "      <td>0.056024</td>\n",
       "      <td>0.183935</td>\n",
       "      <td>0.015557</td>\n",
       "      <td>0.277677</td>\n",
       "      <td>1.509648</td>\n",
       "      <td>0.005252</td>\n",
       "      <td>1.129779</td>\n",
       "    </tr>\n",
       "    <tr>\n",
       "      <th>74</th>\n",
       "      <td>(rolls/buns, yogurt)</td>\n",
       "      <td>(whole milk)</td>\n",
       "      <td>0.034367</td>\n",
       "      <td>0.255516</td>\n",
       "      <td>0.015557</td>\n",
       "      <td>0.452663</td>\n",
       "      <td>1.771563</td>\n",
       "      <td>0.006775</td>\n",
       "      <td>1.360192</td>\n",
       "    </tr>\n",
       "    <tr>\n",
       "      <th>75</th>\n",
       "      <td>(whole milk, yogurt)</td>\n",
       "      <td>(tropical fruit)</td>\n",
       "      <td>0.056024</td>\n",
       "      <td>0.104931</td>\n",
       "      <td>0.015150</td>\n",
       "      <td>0.270417</td>\n",
       "      <td>2.577089</td>\n",
       "      <td>0.009271</td>\n",
       "      <td>1.226823</td>\n",
       "    </tr>\n",
       "    <tr>\n",
       "      <th>76</th>\n",
       "      <td>(whole milk, tropical fruit)</td>\n",
       "      <td>(yogurt)</td>\n",
       "      <td>0.042298</td>\n",
       "      <td>0.139502</td>\n",
       "      <td>0.015150</td>\n",
       "      <td>0.358173</td>\n",
       "      <td>2.567516</td>\n",
       "      <td>0.009249</td>\n",
       "      <td>1.340701</td>\n",
       "    </tr>\n",
       "    <tr>\n",
       "      <th>77</th>\n",
       "      <td>(yogurt, tropical fruit)</td>\n",
       "      <td>(whole milk)</td>\n",
       "      <td>0.029283</td>\n",
       "      <td>0.255516</td>\n",
       "      <td>0.015150</td>\n",
       "      <td>0.517361</td>\n",
       "      <td>2.024770</td>\n",
       "      <td>0.007668</td>\n",
       "      <td>1.542528</td>\n",
       "    </tr>\n",
       "  </tbody>\n",
       "</table>\n",
       "</div>"
      ],
      "text/plain": [
       "                            antecedents         consequents  \\\n",
       "62             (whole milk, rolls/buns)  (other vegetables)   \n",
       "63       (rolls/buns, other vegetables)        (whole milk)   \n",
       "64        (whole milk, root vegetables)  (other vegetables)   \n",
       "65       (whole milk, other vegetables)   (root vegetables)   \n",
       "66  (root vegetables, other vegetables)        (whole milk)   \n",
       "67         (whole milk, tropical fruit)  (other vegetables)   \n",
       "68   (other vegetables, tropical fruit)        (whole milk)   \n",
       "69                 (whole milk, yogurt)  (other vegetables)   \n",
       "70       (whole milk, other vegetables)            (yogurt)   \n",
       "71           (yogurt, other vegetables)        (whole milk)   \n",
       "72             (whole milk, rolls/buns)            (yogurt)   \n",
       "73                 (whole milk, yogurt)        (rolls/buns)   \n",
       "74                 (rolls/buns, yogurt)        (whole milk)   \n",
       "75                 (whole milk, yogurt)    (tropical fruit)   \n",
       "76         (whole milk, tropical fruit)            (yogurt)   \n",
       "77             (yogurt, tropical fruit)        (whole milk)   \n",
       "\n",
       "    antecedent support  consequent support   support  confidence      lift  \\\n",
       "62            0.056634            0.193493  0.017895    0.315978  1.633026   \n",
       "63            0.042603            0.255516  0.017895    0.420048  1.643919   \n",
       "64            0.048907            0.193493  0.023183    0.474012  2.449770   \n",
       "65            0.074835            0.108998  0.023183    0.309783  2.842082   \n",
       "66            0.047382            0.255516  0.023183    0.489270  1.914833   \n",
       "67            0.042298            0.193493  0.017082    0.403846  2.087140   \n",
       "68            0.035892            0.255516  0.017082    0.475921  1.862587   \n",
       "69            0.056024            0.193493  0.022267    0.397459  2.054131   \n",
       "70            0.074835            0.139502  0.022267    0.297554  2.132979   \n",
       "71            0.043416            0.255516  0.022267    0.512881  2.007235   \n",
       "72            0.056634            0.139502  0.015557    0.274686  1.969049   \n",
       "73            0.056024            0.183935  0.015557    0.277677  1.509648   \n",
       "74            0.034367            0.255516  0.015557    0.452663  1.771563   \n",
       "75            0.056024            0.104931  0.015150    0.270417  2.577089   \n",
       "76            0.042298            0.139502  0.015150    0.358173  2.567516   \n",
       "77            0.029283            0.255516  0.015150    0.517361  2.024770   \n",
       "\n",
       "    leverage  conviction  \n",
       "62  0.006937    1.179067  \n",
       "63  0.007010    1.283699  \n",
       "64  0.013719    1.533320  \n",
       "65  0.015026    1.290900  \n",
       "66  0.011076    1.457687  \n",
       "67  0.008898    1.352851  \n",
       "68  0.007911    1.420556  \n",
       "69  0.011427    1.338511  \n",
       "70  0.011828    1.225003  \n",
       "71  0.011174    1.528340  \n",
       "72  0.007656    1.186380  \n",
       "73  0.005252    1.129779  \n",
       "74  0.006775    1.360192  \n",
       "75  0.009271    1.226823  \n",
       "76  0.009249    1.340701  \n",
       "77  0.007668    1.542528  "
      ]
     },
     "execution_count": 50,
     "metadata": {},
     "output_type": "execute_result"
    }
   ],
   "source": [
    "rows = rules['antecedents'].str.len() > 1\n",
    "rules[rows]\n"
   ]
  },
  {
   "cell_type": "markdown",
   "id": "259a358a",
   "metadata": {},
   "source": [
    "We get $16$ rules that match our criteria.\n",
    "\n",
    "We can also filter our rules based on the values in any of the numeric columns. For example, let's assume that we only want to see rules that have a lift of more than `2`, a leverage score more than `0.01` and a conviction score of more than `1.4`. This can be written as follows:"
   ]
  },
  {
   "cell_type": "code",
   "execution_count": 59,
   "id": "29572d40",
   "metadata": {},
   "outputs": [
    {
     "data": {
      "text/html": [
       "<div>\n",
       "<style scoped>\n",
       "    .dataframe tbody tr th:only-of-type {\n",
       "        vertical-align: middle;\n",
       "    }\n",
       "\n",
       "    .dataframe tbody tr th {\n",
       "        vertical-align: top;\n",
       "    }\n",
       "\n",
       "    .dataframe thead th {\n",
       "        text-align: right;\n",
       "    }\n",
       "</style>\n",
       "<table border=\"1\" class=\"dataframe\">\n",
       "  <thead>\n",
       "    <tr style=\"text-align: right;\">\n",
       "      <th></th>\n",
       "      <th>antecedents</th>\n",
       "      <th>consequents</th>\n",
       "      <th>antecedent support</th>\n",
       "      <th>consequent support</th>\n",
       "      <th>support</th>\n",
       "      <th>confidence</th>\n",
       "      <th>lift</th>\n",
       "      <th>leverage</th>\n",
       "      <th>conviction</th>\n",
       "    </tr>\n",
       "  </thead>\n",
       "  <tbody>\n",
       "    <tr>\n",
       "      <th>39</th>\n",
       "      <td>(root vegetables)</td>\n",
       "      <td>(other vegetables)</td>\n",
       "      <td>0.108998</td>\n",
       "      <td>0.193493</td>\n",
       "      <td>0.047382</td>\n",
       "      <td>0.434701</td>\n",
       "      <td>2.246605</td>\n",
       "      <td>0.026291</td>\n",
       "      <td>1.426693</td>\n",
       "    </tr>\n",
       "    <tr>\n",
       "      <th>64</th>\n",
       "      <td>(whole milk, root vegetables)</td>\n",
       "      <td>(other vegetables)</td>\n",
       "      <td>0.048907</td>\n",
       "      <td>0.193493</td>\n",
       "      <td>0.023183</td>\n",
       "      <td>0.474012</td>\n",
       "      <td>2.449770</td>\n",
       "      <td>0.013719</td>\n",
       "      <td>1.533320</td>\n",
       "    </tr>\n",
       "    <tr>\n",
       "      <th>71</th>\n",
       "      <td>(yogurt, other vegetables)</td>\n",
       "      <td>(whole milk)</td>\n",
       "      <td>0.043416</td>\n",
       "      <td>0.255516</td>\n",
       "      <td>0.022267</td>\n",
       "      <td>0.512881</td>\n",
       "      <td>2.007235</td>\n",
       "      <td>0.011174</td>\n",
       "      <td>1.528340</td>\n",
       "    </tr>\n",
       "  </tbody>\n",
       "</table>\n",
       "</div>"
      ],
      "text/plain": [
       "                      antecedents         consequents  antecedent support  \\\n",
       "39              (root vegetables)  (other vegetables)            0.108998   \n",
       "64  (whole milk, root vegetables)  (other vegetables)            0.048907   \n",
       "71     (yogurt, other vegetables)        (whole milk)            0.043416   \n",
       "\n",
       "    consequent support   support  confidence      lift  leverage  conviction  \n",
       "39            0.193493  0.047382    0.434701  2.246605  0.026291    1.426693  \n",
       "64            0.193493  0.023183    0.474012  2.449770  0.013719    1.533320  \n",
       "71            0.255516  0.022267    0.512881  2.007235  0.011174    1.528340  "
      ]
     },
     "execution_count": 59,
     "metadata": {},
     "output_type": "execute_result"
    }
   ],
   "source": [
    "rows = ((rules['lift'] > 2) & (rules['conviction'] > 1.4) & (rules['leverage'] > 0.01))\n",
    "rules[rows] "
   ]
  },
  {
   "cell_type": "markdown",
   "id": "2e529903",
   "metadata": {},
   "source": [
    "There are $3$ rules with a lift of more than `2`, a leverage score more than `0.01` and a conviction score of more than `1.4`.\n",
    "\n",
    "As you can imagine, the examples shown here are just a tip of the iceberg. You can slice and dice the `rules` DataFrame in as many ways as you can imagine. Feel free to do so."
   ]
  },
  {
   "cell_type": "markdown",
   "id": "fedcc77b",
   "metadata": {},
   "source": [
    "## 4. Evaluate Association Rules"
   ]
  },
  {
   "cell_type": "markdown",
   "id": "8e7e801e",
   "metadata": {},
   "source": [
    "Now that we've created association rules and know how to filter rules based on different criteria, let's take a look at how to evaluate them based on the associated metrics. \n",
    "\n",
    "A quick way to get a big-picture view of the metrics is with summary statistics. We do this by calling the `describe()` method of the `rules` DataFrame:"
   ]
  },
  {
   "cell_type": "code",
   "execution_count": null,
   "id": "dcad505f",
   "metadata": {},
   "outputs": [],
   "source": []
  },
  {
   "cell_type": "markdown",
   "id": "742b82b6",
   "metadata": {},
   "source": [
    "The summary statistics provide us with the mean, standard deviation, minimum, maximum and some percentile values for the association rule metrics. From the summary, we can tell that a typical rule has a lift of $1.76$ and that the lift values range from $0.99$ to $3.04$.\n",
    "\n",
    "**Lift** tells us how much more the antecedent and consequent occur together in contrast to how often they occur independently. In other words, lift is the strength of association. Lift values range from $0$ to $\\infty$, where a value of $1$ indicates independence between the antecedent and the consequent. Let's take a look at the top $5$ rules by lift: "
   ]
  },
  {
   "cell_type": "code",
   "execution_count": null,
   "id": "7dcb7c2e",
   "metadata": {},
   "outputs": [],
   "source": []
  },
  {
   "cell_type": "markdown",
   "id": "a2a92764",
   "metadata": {},
   "source": [
    "The first rule has a lift score of $3.04$. We interpret this to mean that customers who bought beef are $3.04$ times more likely to also purchase root vegetables. Note that lift values above $1$ indicate an increased likelihood, while lift values below $1$ indicate a reduced likelihood.\n",
    "\n",
    "**Leverage** is similar to lift and can be thought of as a normalized value for lift. Leverage values range from $-1$ to $1$, where a value of $0$ indicates independence between the antecedent and the consequent. Let's take a look at the top $5$ rules by leverage: "
   ]
  },
  {
   "cell_type": "code",
   "execution_count": null,
   "id": "061d30fb",
   "metadata": {},
   "outputs": [],
   "source": []
  },
  {
   "cell_type": "markdown",
   "id": "0266875b",
   "metadata": {},
   "source": [
    "The first rule has a leverage score of $0.026$. We interpret this to mean that customers who bought root vegetables are also likely to purchase other vegetables. This is expected behavior. However, the second rule which tells us that customers who bought whole milk are $1.5$ times or $50\\%$ (using the lift scores) more likely to also purchase other vegetables is a bit suspect. Rules that include highly purchased items such as whole milk can be deceiving, so we should also look at the conviction of association rules.\n",
    "\n",
    "**Conviction** quantifies how dependent the consequent is on the antecedent. It is also related to lift. However unlike lift, coviction is sensitive to rule direction. This means that $\\text{Conviction}_{A \\rightarrow B} \\neq \\text{Conviction}_{B \\rightarrow A}$. Conviction values range from $0$ to $\\infty$, where a value of $1$ indicates independence between the antecedent and the consequent. Let's take a look at the top $5$ rules by conviction: "
   ]
  },
  {
   "cell_type": "code",
   "execution_count": null,
   "id": "ca6d941b",
   "metadata": {
    "scrolled": true
   },
   "outputs": [],
   "source": []
  },
  {
   "cell_type": "markdown",
   "id": "bd2117f2",
   "metadata": {},
   "source": [
    "The first rule has a conviction of $1.54$. This means that the rule $\\{\\text{tropical fruit, yogurt}\\} \\rightarrow \\{\\text{whole milk}\\}$ would be incorrect $54\\%$ more often (or $1.54$ times as often) if the consequent was independent of the antecedent. The higher the conviction, the more likely it is that the consequent is dependent on the antecedent.\n",
    "\n",
    "Besides the metrics returned by the `association_rules` function, **Zhang's Metric** is another useful metric that we should also take into consideration when evaluating rules. It ranges in value from $-1$ to $1$ which represent perfect association and perfect dissociation respectively. Zhang's metric is useful in identifying items that should not be placed next to each other, even if they have been purchased together previously. It is calculated as follows:\n",
    "\n",
    "$$ \\text{Zhang}_{A \\rightarrow B} = \\frac{\\text{Support}_{A \\rightarrow B} - (\\text{Support}_{A} \\times \\text{Support}_{B})}{\\text{max}\\{[\\text{Support}_{A \\rightarrow B} \\times (1 - \\text{Support}_{A})], [\\text{Support}_{A} \\times (\\text{Support}_{B} - \\text{Support}_{A \\rightarrow B})]\\}}$$\n",
    "\n",
    "Where $\\text{Support}_{A \\rightarrow B}$ is the support of the rule, $\\text{Support}_{A}$ is the antecedent support and $\\text{Support}_{B}$ is the consequent support.\n",
    "\n",
    "We can add Zhang's metric to our `rules` DataFrame by first creating a function that calculates it:"
   ]
  },
  {
   "cell_type": "code",
   "execution_count": null,
   "id": "bbb5edc7",
   "metadata": {},
   "outputs": [],
   "source": []
  },
  {
   "cell_type": "markdown",
   "id": "81ec8cc2",
   "metadata": {},
   "source": [
    "Then, we assign the result of the function to new column called `'zhang'` in the `rules` DataFrame as follows:"
   ]
  },
  {
   "cell_type": "code",
   "execution_count": null,
   "id": "a3dbfa42",
   "metadata": {},
   "outputs": [],
   "source": []
  },
  {
   "cell_type": "markdown",
   "id": "d928c083",
   "metadata": {},
   "source": [
    "Let's take a look at the top $5$ rules by the zhang metric: "
   ]
  },
  {
   "cell_type": "code",
   "execution_count": null,
   "id": "69ef8b65",
   "metadata": {},
   "outputs": [],
   "source": []
  },
  {
   "cell_type": "markdown",
   "id": "541565a5",
   "metadata": {},
   "source": [
    "The first rule has a zhang metric score of $0.708$. This indicates a pretty strong positive association between beef and root vegetables. This tells us that if we were to separate beef from root vegetables in our store, there could be an impact to how much of both are purchased. In other words, pairing beef and root vegetables for promotional purposes is a good choice.\n",
    "\n",
    "Looking at rules that have a low zhang metric is also very useful. Let's take a look at the bottom $5$ rules by the zhang metric: "
   ]
  },
  {
   "cell_type": "code",
   "execution_count": null,
   "id": "c046f775",
   "metadata": {},
   "outputs": [],
   "source": []
  },
  {
   "cell_type": "markdown",
   "id": "a62c207d",
   "metadata": {},
   "source": [
    "The first rule has a zhang metric score of $-0.007$. This indicates a slight dissociation between bottled beer and whole milk. This tells us that if we were to separate bottled beer from whole milk in the store, there would likely not be an appreciable impact on purchase patterns for both items. This means that it would be a bad choice to pair these two items together for promotional purposes."
   ]
  }
 ],
 "metadata": {
  "kernelspec": {
   "display_name": "Python 3 (ipykernel)",
   "language": "python",
   "name": "python3"
  },
  "language_info": {
   "codemirror_mode": {
    "name": "ipython",
    "version": 3
   },
   "file_extension": ".py",
   "mimetype": "text/x-python",
   "name": "python",
   "nbconvert_exporter": "python",
   "pygments_lexer": "ipython3",
   "version": "3.10.8"
  },
  "vscode": {
   "interpreter": {
    "hash": "4f946df053fbf2b937619d3c5458e7af74262f9a954d8797ba0b27400bcafe06"
   }
  }
 },
 "nbformat": 4,
 "nbformat_minor": 5
}
